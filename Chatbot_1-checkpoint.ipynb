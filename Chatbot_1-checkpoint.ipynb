{
 "cells": [
  {
   "cell_type": "code",
   "execution_count": null,
   "id": "8f0f8708-1de7-4f7e-a5ee-582e863f94b7",
   "metadata": {},
   "outputs": [
    {
     "name": "stdout",
     "output_type": "stream",
     "text": [
      "Chatbot: Hello! Type 'exit' to end the chat.\n"
     ]
    },
    {
     "name": "stdin",
     "output_type": "stream",
     "text": [
      "You:  Hi\n"
     ]
    },
    {
     "name": "stdout",
     "output_type": "stream",
     "text": [
      "Chatbot: Hi there! How can I help you?\n"
     ]
    }
   ],
   "source": [
    "# Step 1: Import Libraries\n",
    "import re\n",
    "import numpy as np\n",
    "from sklearn.feature_extraction.text import CountVectorizer\n",
    "from sklearn.metrics.pairwise import cosine_similarity\n",
    "\n",
    "# Step 2: Dataset\n",
    "dataset = {\n",
    "    \"hello\": \"Hi there! How can I help you?\",\n",
    "    \"how are you\": \"I'm just a bot, but I'm doing great! How about you?\",\n",
    "    \"what is AI\": \"AI stands for Artificial Intelligence, the simulation of human intelligence in machines.\",\n",
    "    \"bye\": \"Goodbye! Have a great day!\"\n",
    "}\n",
    "\n",
    "# Step 3: Preprocess Input\n",
    "def preprocess(text):\n",
    "    text = text.lower()\n",
    "    text = re.sub(r'[^\\w\\s]', '', text)  # Remove punctuation\n",
    "    return text\n",
    "\n",
    "# Step 4: Get Response\n",
    "def get_response(user_input, dataset):\n",
    "    user_input = preprocess(user_input)\n",
    "    responses = list(dataset.values())\n",
    "    inputs = list(dataset.keys()) + [user_input]\n",
    "\n",
    "    # Convert text into vectors\n",
    "    vectorizer = CountVectorizer().fit_transform(inputs)\n",
    "    vectors = vectorizer.toarray()\n",
    "\n",
    "    # Compute cosine similarity\n",
    "    similarity = cosine_similarity(vectors[-1:], vectors[:-1])\n",
    "    best_match_index = np.argmax(similarity)\n",
    "\n",
    "    return responses[best_match_index]\n",
    "\n",
    "# Step 5: Chatbot Function\n",
    "def chatbot():\n",
    "    print(\"Chatbot: Hello! Type 'exit' to end the chat.\")\n",
    "    while True:\n",
    "        user_input = input(\"You: \")\n",
    "        if user_input.lower() == 'exit':\n",
    "            print(\"Chatbot: Goodbye!\")\n",
    "            break\n",
    "        response = get_response(user_input, dataset)\n",
    "        print(f\"Chatbot: {response}\")\n",
    "\n",
    "# Step 6: Run Chatbot\n",
    "chatbot()"
   ]
  },
  {
   "cell_type": "code",
   "execution_count": null,
   "id": "417420cd-77ca-4e56-8083-b5863cb54b21",
   "metadata": {},
   "outputs": [],
   "source": []
  }
 ],
 "metadata": {
  "kernelspec": {
   "display_name": "Python 3 (ipykernel)",
   "language": "python",
   "name": "python3"
  },
  "language_info": {
   "codemirror_mode": {
    "name": "ipython",
    "version": 3
   },
   "file_extension": ".py",
   "mimetype": "text/x-python",
   "name": "python",
   "nbconvert_exporter": "python",
   "pygments_lexer": "ipython3",
   "version": "3.13.1"
  }
 },
 "nbformat": 4,
 "nbformat_minor": 5
}
